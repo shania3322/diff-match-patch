{
 "cells": [
  {
   "cell_type": "code",
   "execution_count": 16,
   "metadata": {},
   "outputs": [],
   "source": [
    "import diff_match_patch_modify as dmp\n",
    "import pandas as pd\n",
    "import numpy as np\n",
    "import sys\n",
    "import html\n",
    "from IPython.display import display, HTML"
   ]
  },
  {
   "cell_type": "code",
   "execution_count": 17,
   "metadata": {},
   "outputs": [],
   "source": [
    "def html_escape(text):\n",
    "    return html.escape(text)\n",
    "\n",
    "def highlight_diff(diff:tuple):\n",
    "    highlight_ref = ['Reference:']\n",
    "    highlight_hyp = ['Hypothesis:']\n",
    "    for item in diff:\n",
    "        diff_type, diff_str = item[0],item[1]\n",
    "        #print(diff_type)\n",
    "        #print(diff_str)\n",
    "        \n",
    "    \n",
    "        if diff_type ==0:\n",
    "            highlight_ref.append(html_escape(diff_str))\n",
    "            highlight_hyp.append(html_escape(diff_str))\n",
    "        elif diff_type == -1:\n",
    "            highlight_hyp.append('<span style=\"background-color:hsla(240, 100%, 70%, 0.3);\">' + html_escape(diff_str) + '</span>')\n",
    "        elif diff_type == 1:\n",
    "            highlight_ref.append('<span style=\"background-color:hsla(0, 100%, 70%, 0.3);\">' + html_escape(diff_str) + '</span>')\n",
    "        else:\n",
    "            pass\n",
    "    \n",
    "    highlight_ref=' '.join(highlight_ref)\n",
    "    highlight_hyp=' '.join(highlight_hyp)\n",
    "    \n",
    "    \n",
    "    display(HTML(highlight_ref))\n",
    "    display(HTML(highlight_hyp))\n",
    "            \n",
    "    "
   ]
  },
  {
   "cell_type": "code",
   "execution_count": 18,
   "metadata": {},
   "outputs": [
    {
     "data": {
      "text/plain": [
       "\"\\ndef diff_wordMode(text1, text2,deadline):\\n    new_match = dmp.diff_match_patch();\\n    (text1, text2, linearray) = new_match.diff_linesToWords(text1,text2)\\n    diffs = new_match.diff_main(text1,text2,False,deadline)\\n    \\n    # Convert the diff back to original text.\\n    new_match.diff_charsToLines(diffs, linearray)\\n    # Eliminate freak matches (e.g. blank lines)\\n    new_match.diff_cleanupSemantic(diffs)\\n    \\n    # Rediff any replacement blocks, this time character-by-character.\\n    # Add a dummy entry at the end.\\n    diffs.append((new_match.DIFF_EQUAL, ''))\\n    pointer = 0\\n    count_delete = 0\\n    count_insert = 0\\n    text_delete = ''\\n    text_insert = ''\\n    while pointer < len(diffs):\\n      if diffs[pointer][0] == new_match.DIFF_INSERT:\\n        count_insert += 1\\n        text_insert += diffs[pointer][1]\\n      elif diffs[pointer][0] == new_match.DIFF_DELETE:\\n        count_delete += 1\\n        text_delete += diffs[pointer][1]\\n      elif diffs[pointer][0] == new_match.DIFF_EQUAL:\\n        # Upon reaching an equality, check for prior redundancies.\\n        if count_delete >= 1 and count_insert >= 1:\\n          # Delete the offending records and add the merged ones.\\n          subDiff = new_match.diff_main(text_delete, text_insert, False, deadline)\\n          diffs[pointer - count_delete - count_insert : pointer] = subDiff\\n          pointer = pointer - count_delete - count_insert + len(subDiff)\\n        count_insert = 0\\n        count_delete = 0\\n        text_delete = ''\\n        text_insert = ''\\n\\n      pointer += 1\\n\\n    diffs.pop()  # Remove the dummy entry at the end.\\n    \\n    return diffs\\n    \\n\""
      ]
     },
     "execution_count": 18,
     "metadata": {},
     "output_type": "execute_result"
    }
   ],
   "source": [
    "'''\n",
    "def diff_wordMode(text1, text2,deadline):\n",
    "    new_match = dmp.diff_match_patch();\n",
    "    (text1, text2, linearray) = new_match.diff_linesToWords(text1,text2)\n",
    "    diffs = new_match.diff_main(text1,text2,False,deadline)\n",
    "    \n",
    "    # Convert the diff back to original text.\n",
    "    new_match.diff_charsToLines(diffs, linearray)\n",
    "    # Eliminate freak matches (e.g. blank lines)\n",
    "    new_match.diff_cleanupSemantic(diffs)\n",
    "    \n",
    "    # Rediff any replacement blocks, this time character-by-character.\n",
    "    # Add a dummy entry at the end.\n",
    "    diffs.append((new_match.DIFF_EQUAL, ''))\n",
    "    pointer = 0\n",
    "    count_delete = 0\n",
    "    count_insert = 0\n",
    "    text_delete = ''\n",
    "    text_insert = ''\n",
    "    while pointer < len(diffs):\n",
    "      if diffs[pointer][0] == new_match.DIFF_INSERT:\n",
    "        count_insert += 1\n",
    "        text_insert += diffs[pointer][1]\n",
    "      elif diffs[pointer][0] == new_match.DIFF_DELETE:\n",
    "        count_delete += 1\n",
    "        text_delete += diffs[pointer][1]\n",
    "      elif diffs[pointer][0] == new_match.DIFF_EQUAL:\n",
    "        # Upon reaching an equality, check for prior redundancies.\n",
    "        if count_delete >= 1 and count_insert >= 1:\n",
    "          # Delete the offending records and add the merged ones.\n",
    "          subDiff = new_match.diff_main(text_delete, text_insert, False, deadline)\n",
    "          diffs[pointer - count_delete - count_insert : pointer] = subDiff\n",
    "          pointer = pointer - count_delete - count_insert + len(subDiff)\n",
    "        count_insert = 0\n",
    "        count_delete = 0\n",
    "        text_delete = ''\n",
    "        text_insert = ''\n",
    "\n",
    "      pointer += 1\n",
    "\n",
    "    diffs.pop()  # Remove the dummy entry at the end.\n",
    "    \n",
    "    return diffs\n",
    "    \n",
    "'''"
   ]
  },
  {
   "cell_type": "code",
   "execution_count": 19,
   "metadata": {},
   "outputs": [
    {
     "data": {
      "text/html": [
       "hello"
      ],
      "text/plain": [
       "<IPython.core.display.HTML object>"
      ]
     },
     "metadata": {},
     "output_type": "display_data"
    },
    {
     "data": {
      "text/html": [
       "<span style=\"background-color:hsla(240, 100%, 70%, 0.3);\">hello</span>"
      ],
      "text/plain": [
       "<IPython.core.display.HTML object>"
      ]
     },
     "metadata": {},
     "output_type": "display_data"
    }
   ],
   "source": [
    "# test for highlighted\n",
    "\n",
    "text = \"hello\"\n",
    "highlighted = []\n",
    "highlighted.append('<span style=\"background-color:hsla(240, 100%, 70%, 0.3);\">' + html_escape(text) + '</span>')\n",
    "\n",
    "display(HTML(data=html_escape(text)))\n",
    "\n",
    "highlighted = ' '.join(highlighted)\n",
    "display(HTML(data=highlighted))\n"
   ]
  },
  {
   "cell_type": "code",
   "execution_count": 20,
   "metadata": {},
   "outputs": [],
   "source": [
    "def find_diff_bygroup(data:pd.DataFrame, hyps_size, num):\n",
    "    ref = data['Predictions'][0+hyps_size*num]\n",
    "    hyps = data['Predictions'][1+hyps_size*num:hyps_size+hyps_size*num].astype(str).values.tolist()\n",
    "\n",
    "    for i, hyp in enumerate(hyps):\n",
    "        print(f'The {i}th: ')\n",
    "        print(f'ref: {ref}')\n",
    "        print(f'hyp {i}: {hyps[i]}')\n",
    "        \n",
    "        new_compare = dmp.diff_match_patch()\n",
    "        line_diffs = new_compare.diff_lineMode(hyps[i],ref,deadline=1.0)\n",
    "        \n",
    "        #Wordmode\n",
    "        #line_diffs = diff_wordMode(hyps[i],ref,deadline=1.0)\n",
    "        \n",
    "        #print(line_diffs,\"\\n\")\n",
    "        \n",
    "        highlight_diff(line_diffs)"
   ]
  },
  {
   "cell_type": "code",
   "execution_count": 21,
   "metadata": {},
   "outputs": [],
   "source": [
    "def main():\n",
    "\n",
    "    pd.options.display.max_colwidth = 100\n",
    "    #num_rows =50\n",
    "    path = 'out1.csv'\n",
    "    #data = pd.read_csv(path, nrows=num_rows, index_col=[0])\n",
    "    data = pd.read_csv(path, index_col=[0],names = ['Predictions','Scores','Confidence scores'])\n",
    "    data = data.reset_index(drop=True)\n",
    "    data.style.set_properties(**{'text-align': 'left'})\n",
    "    #print(data.head())\n",
    "    \n",
    "    hyps_size = 4\n",
    "    find_diff_bygroup(data,hyps_size,0)\n",
    "    find_diff_bygroup(data,hyps_size,1)\n",
    "    find_diff_bygroup(data,hyps_size,2)\n",
    "    find_diff_bygroup(data,hyps_size,3)\n",
    "    find_diff_bygroup(data,hyps_size,4)\n",
    "        \n",
    "\n",
    "    '''\n",
    "    line_diffs = map(new_compare.diff_lineMode(hyp, ref), hyp for hyp in hyps)\n",
    "    print(set(line_diffs))\n",
    "    '''\n",
    "    \n",
    "    "
   ]
  },
  {
   "cell_type": "code",
   "execution_count": 22,
   "metadata": {},
   "outputs": [
    {
     "name": "stdout",
     "output_type": "stream",
     "text": [
      "The 0th: \n",
      "ref: Karratha Police hat einen 20-jährigen Mann beschuldigt , nicht aufzuhalten und rücksichtslos zu fahren .\n",
      "hyp 0: Karratha Police hat einem 20 Jahre alten Mann vorgeworfen , es sei ihm nicht gelungen , aufzuhalten und rücksichts\n"
     ]
    },
    {
     "data": {
      "text/html": [
       "Reference: Karratha Police hat eine <span style=\"background-color:hsla(0, 100%, 70%, 0.3);\">n 20-jährigen Mann beschuldigt , nicht aufzuhalten und rücksichtslos zu fahren .</span>"
      ],
      "text/plain": [
       "<IPython.core.display.HTML object>"
      ]
     },
     "metadata": {},
     "output_type": "display_data"
    },
    {
     "data": {
      "text/html": [
       "Hypothesis: Karratha Police hat eine <span style=\"background-color:hsla(240, 100%, 70%, 0.3);\">m 20 Jahre alten Mann vorgeworfen , es sei ihm nicht gelungen , aufzuhalten und rücksichts</span>"
      ],
      "text/plain": [
       "<IPython.core.display.HTML object>"
      ]
     },
     "metadata": {},
     "output_type": "display_data"
    },
    {
     "name": "stdout",
     "output_type": "stream",
     "text": [
      "The 1th: \n",
      "ref: Karratha Police hat einen 20-jährigen Mann beschuldigt , nicht aufzuhalten und rücksichtslos zu fahren .\n",
      "hyp 1: Karratha Police hat einen 20-jährigen Mann beschuldigt , nicht zu stoppen und rücksichtslos zu fahren .\n"
     ]
    },
    {
     "data": {
      "text/html": [
       "Reference: Karratha Police hat einen 20-jährigen Mann beschuldigt , nicht  <span style=\"background-color:hsla(0, 100%, 70%, 0.3);\">aufzuhalt</span> en und rücksichtslos zu fahren ."
      ],
      "text/plain": [
       "<IPython.core.display.HTML object>"
      ]
     },
     "metadata": {},
     "output_type": "display_data"
    },
    {
     "data": {
      "text/html": [
       "Hypothesis: Karratha Police hat einen 20-jährigen Mann beschuldigt , nicht  <span style=\"background-color:hsla(240, 100%, 70%, 0.3);\">zu stopp</span> en und rücksichtslos zu fahren ."
      ],
      "text/plain": [
       "<IPython.core.display.HTML object>"
      ]
     },
     "metadata": {},
     "output_type": "display_data"
    },
    {
     "name": "stdout",
     "output_type": "stream",
     "text": [
      "The 2th: \n",
      "ref: Karratha Police hat einen 20-jährigen Mann beschuldigt , nicht aufzuhalten und rücksichtslos zu fahren .\n",
      "hyp 2: Karratha Police hat einem 20-jährigen Mann den Vorwurf gemacht , dass er nicht gestoppt und rücksichtslos\n"
     ]
    },
    {
     "data": {
      "text/html": [
       "Reference: Karratha Police hat eine <span style=\"background-color:hsla(0, 100%, 70%, 0.3);\">n 20-jährigen Mann beschuldigt , nicht aufzuhalten und rücksichtslos zu fahren .</span>"
      ],
      "text/plain": [
       "<IPython.core.display.HTML object>"
      ]
     },
     "metadata": {},
     "output_type": "display_data"
    },
    {
     "data": {
      "text/html": [
       "Hypothesis: Karratha Police hat eine <span style=\"background-color:hsla(240, 100%, 70%, 0.3);\">m 20-jährigen Mann den Vorwurf gemacht , dass er nicht gestoppt und rücksichtslos</span>"
      ],
      "text/plain": [
       "<IPython.core.display.HTML object>"
      ]
     },
     "metadata": {},
     "output_type": "display_data"
    },
    {
     "name": "stdout",
     "output_type": "stream",
     "text": [
      "The 0th: \n",
      "ref: Er soll am 23 . September in Karratha Magistrates Court erscheinen .\n",
      "hyp 0: Er wird in Karratha Magistrates Court am 23 . September erscheinen .\n"
     ]
    },
    {
     "data": {
      "text/html": [
       "Reference: Er  <span style=\"background-color:hsla(0, 100%, 70%, 0.3);\">soll am 23 . September</span>  in Karratha Magistrates Court  erscheinen ."
      ],
      "text/plain": [
       "<IPython.core.display.HTML object>"
      ]
     },
     "metadata": {},
     "output_type": "display_data"
    },
    {
     "data": {
      "text/html": [
       "Hypothesis: Er  <span style=\"background-color:hsla(240, 100%, 70%, 0.3);\">wird</span>  in Karratha Magistrates Court <span style=\"background-color:hsla(240, 100%, 70%, 0.3);\"> am 23 . September</span>  erscheinen ."
      ],
      "text/plain": [
       "<IPython.core.display.HTML object>"
      ]
     },
     "metadata": {},
     "output_type": "display_data"
    },
    {
     "name": "stdout",
     "output_type": "stream",
     "text": [
      "The 1th: \n",
      "ref: Er soll am 23 . September in Karratha Magistrates Court erscheinen .\n",
      "hyp 1: Am 23 . September soll er in Karratha Magistrates Court erscheinen .\n"
     ]
    },
    {
     "data": {
      "text/html": [
       "Reference: <span style=\"background-color:hsla(0, 100%, 70%, 0.3);\">Er soll a</span> m 23 . Septemb er in Karratha Magistrates Court erscheinen ."
      ],
      "text/plain": [
       "<IPython.core.display.HTML object>"
      ]
     },
     "metadata": {},
     "output_type": "display_data"
    },
    {
     "data": {
      "text/html": [
       "Hypothesis: <span style=\"background-color:hsla(240, 100%, 70%, 0.3);\">A</span> m 23 . Septemb <span style=\"background-color:hsla(240, 100%, 70%, 0.3);\">er soll </span> er in Karratha Magistrates Court erscheinen ."
      ],
      "text/plain": [
       "<IPython.core.display.HTML object>"
      ]
     },
     "metadata": {},
     "output_type": "display_data"
    },
    {
     "name": "stdout",
     "output_type": "stream",
     "text": [
      "The 2th: \n",
      "ref: Er soll am 23 . September in Karratha Magistrates Court erscheinen .\n",
      "hyp 2: Er soll am 23 . September im Richtershof von Karratha erscheinen .\n"
     ]
    },
    {
     "data": {
      "text/html": [
       "Reference: Er soll am 23 . September i <span style=\"background-color:hsla(0, 100%, 70%, 0.3);\">n Karratha Magistrates Court</span>  erscheinen ."
      ],
      "text/plain": [
       "<IPython.core.display.HTML object>"
      ]
     },
     "metadata": {},
     "output_type": "display_data"
    },
    {
     "data": {
      "text/html": [
       "Hypothesis: Er soll am 23 . September i <span style=\"background-color:hsla(240, 100%, 70%, 0.3);\">m Richtershof von Karratha</span>  erscheinen ."
      ],
      "text/plain": [
       "<IPython.core.display.HTML object>"
      ]
     },
     "metadata": {},
     "output_type": "display_data"
    },
    {
     "name": "stdout",
     "output_type": "stream",
     "text": [
      "The 0th: \n",
      "ref: Das Motorrad wurde für drei Monate beschlagnahmt und beschlagnahmt .\n",
      "hyp 0: Das Motorrad wurde beschlagnahmt und drei Monate lang beschlagnahmt .\n"
     ]
    },
    {
     "data": {
      "text/html": [
       "Reference: Das Motorrad wurde  <span style=\"background-color:hsla(0, 100%, 70%, 0.3);\">für drei Monate </span> beschlagnahmt und  beschlagnahmt ."
      ],
      "text/plain": [
       "<IPython.core.display.HTML object>"
      ]
     },
     "metadata": {},
     "output_type": "display_data"
    },
    {
     "data": {
      "text/html": [
       "Hypothesis: Das Motorrad wurde  beschlagnahmt und <span style=\"background-color:hsla(240, 100%, 70%, 0.3);\"> drei Monate lang</span>  beschlagnahmt ."
      ],
      "text/plain": [
       "<IPython.core.display.HTML object>"
      ]
     },
     "metadata": {},
     "output_type": "display_data"
    },
    {
     "name": "stdout",
     "output_type": "stream",
     "text": [
      "The 1th: \n",
      "ref: Das Motorrad wurde für drei Monate beschlagnahmt und beschlagnahmt .\n",
      "hyp 1: Das Motorrad wurde für einen Zeitraum von drei Monaten beschlagnahmt und beschlagnah\n"
     ]
    },
    {
     "data": {
      "text/html": [
       "Reference: Das Motorrad wurde für  <span style=\"background-color:hsla(0, 100%, 70%, 0.3);\">drei Monate beschlagnahmt und beschlagnahmt .</span>"
      ],
      "text/plain": [
       "<IPython.core.display.HTML object>"
      ]
     },
     "metadata": {},
     "output_type": "display_data"
    },
    {
     "data": {
      "text/html": [
       "Hypothesis: Das Motorrad wurde für  <span style=\"background-color:hsla(240, 100%, 70%, 0.3);\">einen Zeitraum von drei Monaten beschlagnahmt und beschlagnah</span>"
      ],
      "text/plain": [
       "<IPython.core.display.HTML object>"
      ]
     },
     "metadata": {},
     "output_type": "display_data"
    },
    {
     "name": "stdout",
     "output_type": "stream",
     "text": [
      "The 2th: \n",
      "ref: Das Motorrad wurde für drei Monate beschlagnahmt und beschlagnahmt .\n",
      "hyp 2: Das Motorrad wurde beschlagnahmt und für drei Monate beschlagnahmt .\n"
     ]
    },
    {
     "data": {
      "text/html": [
       "Reference: Das Motorrad wurde  <span style=\"background-color:hsla(0, 100%, 70%, 0.3);\">für drei Monate </span> beschlagnahmt und  beschlagnahmt ."
      ],
      "text/plain": [
       "<IPython.core.display.HTML object>"
      ]
     },
     "metadata": {},
     "output_type": "display_data"
    },
    {
     "data": {
      "text/html": [
       "Hypothesis: Das Motorrad wurde  beschlagnahmt und <span style=\"background-color:hsla(240, 100%, 70%, 0.3);\"> für drei Monate</span>  beschlagnahmt ."
      ],
      "text/plain": [
       "<IPython.core.display.HTML object>"
      ]
     },
     "metadata": {},
     "output_type": "display_data"
    },
    {
     "name": "stdout",
     "output_type": "stream",
     "text": [
      "The 0th: \n",
      "ref: George Webster beschuldigt von Vergewaltigungen in Nairn und Pitlochry\n",
      "hyp 0: George Webster beschuldigt von Vergewaltigungen im Hotel Nairn und Pitlochry\n"
     ]
    },
    {
     "data": {
      "text/html": [
       "Reference: George Webster beschuldigt von Vergewaltigungen i <span style=\"background-color:hsla(0, 100%, 70%, 0.3);\">n</span>  Nairn und Pitlochry"
      ],
      "text/plain": [
       "<IPython.core.display.HTML object>"
      ]
     },
     "metadata": {},
     "output_type": "display_data"
    },
    {
     "data": {
      "text/html": [
       "Hypothesis: George Webster beschuldigt von Vergewaltigungen i <span style=\"background-color:hsla(240, 100%, 70%, 0.3);\">m Hotel</span>  Nairn und Pitlochry"
      ],
      "text/plain": [
       "<IPython.core.display.HTML object>"
      ]
     },
     "metadata": {},
     "output_type": "display_data"
    },
    {
     "name": "stdout",
     "output_type": "stream",
     "text": [
      "The 1th: \n",
      "ref: George Webster beschuldigt von Vergewaltigungen in Nairn und Pitlochry\n",
      "hyp 1: George Webster beschuldigt von Vergewaltigungen von Hotels in Nairn und Pitloch\n"
     ]
    },
    {
     "data": {
      "text/html": [
       "Reference: George Webster beschuldigt von Vergewaltigungen  in Nairn und Pitloch <span style=\"background-color:hsla(0, 100%, 70%, 0.3);\">ry</span>"
      ],
      "text/plain": [
       "<IPython.core.display.HTML object>"
      ]
     },
     "metadata": {},
     "output_type": "display_data"
    },
    {
     "data": {
      "text/html": [
       "Hypothesis: George Webster beschuldigt von Vergewaltigungen  <span style=\"background-color:hsla(240, 100%, 70%, 0.3);\">von Hotels </span> in Nairn und Pitloch"
      ],
      "text/plain": [
       "<IPython.core.display.HTML object>"
      ]
     },
     "metadata": {},
     "output_type": "display_data"
    },
    {
     "name": "stdout",
     "output_type": "stream",
     "text": [
      "The 2th: \n",
      "ref: George Webster beschuldigt von Vergewaltigungen in Nairn und Pitlochry\n",
      "hyp 2: George Webster beschuldigt Nairn und Pitlochry Hotelvergewaltigungen\n"
     ]
    },
    {
     "data": {
      "text/html": [
       "Reference: George Webster beschuldigt  <span style=\"background-color:hsla(0, 100%, 70%, 0.3);\">von Vergewaltigungen in Nairn und Pitlochry</span>"
      ],
      "text/plain": [
       "<IPython.core.display.HTML object>"
      ]
     },
     "metadata": {},
     "output_type": "display_data"
    },
    {
     "data": {
      "text/html": [
       "Hypothesis: George Webster beschuldigt  <span style=\"background-color:hsla(240, 100%, 70%, 0.3);\">Nairn und Pitlochry Hotelvergewaltigungen</span>"
      ],
      "text/plain": [
       "<IPython.core.display.HTML object>"
      ]
     },
     "metadata": {},
     "output_type": "display_data"
    },
    {
     "name": "stdout",
     "output_type": "stream",
     "text": [
      "The 0th: \n",
      "ref: Ein Mann soll vor Gericht gestellt werden , weil er Frauen in zwei Hotels vergewaltigt hat .\n",
      "hyp 0: A man is to stand trial accused of raping women at two hotels .\n"
     ]
    },
    {
     "data": {
      "text/html": [
       "Reference: <span style=\"background-color:hsla(0, 100%, 70%, 0.3);\">Ein Mann soll vor Gericht gestellt werden , weil er Frauen in zwei Hotels vergewaltigt hat</span>  ."
      ],
      "text/plain": [
       "<IPython.core.display.HTML object>"
      ]
     },
     "metadata": {},
     "output_type": "display_data"
    },
    {
     "data": {
      "text/html": [
       "Hypothesis: <span style=\"background-color:hsla(240, 100%, 70%, 0.3);\">A man is to stand trial accused of raping women at two hotels</span>  ."
      ],
      "text/plain": [
       "<IPython.core.display.HTML object>"
      ]
     },
     "metadata": {},
     "output_type": "display_data"
    },
    {
     "name": "stdout",
     "output_type": "stream",
     "text": [
      "The 1th: \n",
      "ref: Ein Mann soll vor Gericht gestellt werden , weil er Frauen in zwei Hotels vergewaltigt hat .\n",
      "hyp 1: Ein Mann muss vor Gericht gestellt werden , weil er Frauen in zwei Hotels vergewaltigt hat .\n"
     ]
    },
    {
     "data": {
      "text/html": [
       "Reference: Ein Mann  <span style=\"background-color:hsla(0, 100%, 70%, 0.3);\">soll</span>  vor Gericht gestellt werden , weil er Frauen in zwei Hotels vergewaltigt hat ."
      ],
      "text/plain": [
       "<IPython.core.display.HTML object>"
      ]
     },
     "metadata": {},
     "output_type": "display_data"
    },
    {
     "data": {
      "text/html": [
       "Hypothesis: Ein Mann  <span style=\"background-color:hsla(240, 100%, 70%, 0.3);\">muss</span>  vor Gericht gestellt werden , weil er Frauen in zwei Hotels vergewaltigt hat ."
      ],
      "text/plain": [
       "<IPython.core.display.HTML object>"
      ]
     },
     "metadata": {},
     "output_type": "display_data"
    },
    {
     "name": "stdout",
     "output_type": "stream",
     "text": [
      "The 2th: \n",
      "ref: Ein Mann soll vor Gericht gestellt werden , weil er Frauen in zwei Hotels vergewaltigt hat .\n",
      "hyp 2: Ein Mann wird vor Gericht gestellt , weil er Frauen in zwei Hotels vergewaltigt hat .\n"
     ]
    },
    {
     "data": {
      "text/html": [
       "Reference: Ein Mann  <span style=\"background-color:hsla(0, 100%, 70%, 0.3);\">soll</span>  vor Gericht gestellt <span style=\"background-color:hsla(0, 100%, 70%, 0.3);\"> werden</span>  , weil er Frauen in zwei Hotels vergewaltigt hat ."
      ],
      "text/plain": [
       "<IPython.core.display.HTML object>"
      ]
     },
     "metadata": {},
     "output_type": "display_data"
    },
    {
     "data": {
      "text/html": [
       "Hypothesis: Ein Mann  <span style=\"background-color:hsla(240, 100%, 70%, 0.3);\">wird</span>  vor Gericht gestellt  , weil er Frauen in zwei Hotels vergewaltigt hat ."
      ],
      "text/plain": [
       "<IPython.core.display.HTML object>"
      ]
     },
     "metadata": {},
     "output_type": "display_data"
    }
   ],
   "source": [
    "\n",
    "if __name__ == \"__main__\":\n",
    "    main()\n"
   ]
  },
  {
   "cell_type": "code",
   "execution_count": null,
   "metadata": {},
   "outputs": [],
   "source": []
  },
  {
   "cell_type": "code",
   "execution_count": null,
   "metadata": {},
   "outputs": [],
   "source": []
  }
 ],
 "metadata": {
  "kernelspec": {
   "display_name": "Python 3",
   "language": "python",
   "name": "python3"
  },
  "language_info": {
   "codemirror_mode": {
    "name": "ipython",
    "version": 3
   },
   "file_extension": ".py",
   "mimetype": "text/x-python",
   "name": "python",
   "nbconvert_exporter": "python",
   "pygments_lexer": "ipython3",
   "version": "3.8.5"
  }
 },
 "nbformat": 4,
 "nbformat_minor": 4
}
