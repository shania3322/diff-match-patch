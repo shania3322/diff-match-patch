{
 "cells": [
  {
   "cell_type": "code",
   "execution_count": 1,
   "metadata": {},
   "outputs": [],
   "source": [
    "import diff_match_patch as dmp\n",
    "import pandas as pd\n",
    "import numpy as np\n",
    "import sys"
   ]
  },
  {
   "cell_type": "code",
   "execution_count": 2,
   "metadata": {},
   "outputs": [],
   "source": [
    "def main():\n",
    "\n",
    "    pd.options.display.max_colwidth = 100\n",
    "    #num_rows =50\n",
    "    path = 'out1.csv'\n",
    "    #data = pd.read_csv(path, nrows=num_rows, index_col=[0])\n",
    "    data = pd.read_csv(path, index_col=[0],names = ['Predictions','Scores','Confidence scores'])\n",
    "    data = data.reset_index(drop=True)\n",
    "    data.style.set_properties(**{'text-align': 'left'})\n",
    "    #print(data.head())\n",
    "    \n",
    "    ref = data['Predictions'][0]\n",
    "    hyps = data['Predictions'][1:4].astype(str).values.tolist()\n",
    "\n",
    "    for i, hyp in enumerate(hyps):\n",
    "         print(f'The {i}th: ')\n",
    "         print(f'ref: {ref}')\n",
    "         print(f'hyp {i}: {hyps[i]}')\n",
    "         new_compare = dmp.diff_match_patch()\n",
    "         line_diffs = new_compare.diff_lineMode(hyps[i],ref,deadline=1.0)\n",
    "         print(line_diffs,\"\\n\")\n",
    "\n",
    "    '''\n",
    "    line_diffs = map(new_compare.diff_lineMode(hyp, ref), hyp for hyp in hyps)\n",
    "    print(set(line_diffs))\n",
    "    '''"
   ]
  },
  {
   "cell_type": "code",
   "execution_count": 3,
   "metadata": {},
   "outputs": [
    {
     "name": "stdout",
     "output_type": "stream",
     "text": [
      "The 0th: \n",
      "ref: Karratha Police hat einen 20-jährigen Mann beschuldigt , nicht aufzuhalten und rücksichtslos zu fahren .\n",
      "hyp 0: Am Walcott Way in Bulgarra wurde dann das Motorrad und eine Person entdeckt , die der Beschreibung des Fahrers entspricht .\n",
      "[(-1, 'Am Walcott Way in Bulgarra wurde dann das Motorrad und eine Person entdeckt , die der Beschreibung des Fahrers entspricht'), (1, 'Karratha Police hat einen 20-jährigen Mann beschuldigt , nicht aufzuhalten und rücksichtslos zu fahren'), (0, ' .')] \n",
      "\n",
      "The 1th: \n",
      "ref: Karratha Police hat einen 20-jährigen Mann beschuldigt , nicht aufzuhalten und rücksichtslos zu fahren .\n",
      "hyp 1: Karratha Police hat einem 20-jährigen Mann vorgeworfen , dass er nicht gestoppt und rücksichtslos fährt .\n",
      "[(0, 'Karratha Police hat eine'), (-1, 'm 20-jährigen Mann vorgeworfen , dass er nicht gestoppt und rücksichtslos fährt'), (1, 'n 20-jährigen Mann beschuldigt , nicht aufzuhalten und rücksichtslos zu fahren'), (0, ' .')] \n",
      "\n",
      "The 2th: \n",
      "ref: Karratha Police hat einen 20-jährigen Mann beschuldigt , nicht aufzuhalten und rücksichtslos zu fahren .\n",
      "hyp 2: Karratha Police hat einen 20-jährigen Mann beschuldigt , nicht zu stoppen und rücksichtslos zu fahren .\n",
      "[(0, 'Karratha Police hat einen 20-jährigen Mann beschuldigt , nicht '), (-1, 'zu stopp'), (1, 'aufzuhalt'), (0, 'en und rücksichtslos zu fahren .')] \n",
      "\n"
     ]
    }
   ],
   "source": [
    "\n",
    "if __name__ == \"__main__\":\n",
    "    main()\n"
   ]
  },
  {
   "cell_type": "code",
   "execution_count": null,
   "metadata": {},
   "outputs": [],
   "source": []
  }
 ],
 "metadata": {
  "kernelspec": {
   "display_name": "Python 3",
   "language": "python",
   "name": "python3"
  },
  "language_info": {
   "codemirror_mode": {
    "name": "ipython",
    "version": 3
   },
   "file_extension": ".py",
   "mimetype": "text/x-python",
   "name": "python",
   "nbconvert_exporter": "python",
   "pygments_lexer": "ipython3",
   "version": "3.8.5"
  }
 },
 "nbformat": 4,
 "nbformat_minor": 4
}
